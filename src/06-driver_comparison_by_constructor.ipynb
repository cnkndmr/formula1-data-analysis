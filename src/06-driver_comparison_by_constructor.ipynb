{
 "cells": [
  {
   "cell_type": "code",
   "execution_count": 3,
   "metadata": {},
   "outputs": [],
   "source": [
    "import pandas as pd\n",
    "import numpy as np\n",
    "import matplotlib.pyplot as plt\n",
    "import zipfile\n",
    "import urllib.request\n",
    "\n",
    "url = 'http://ergast.com/downloads/f1db_csv.zip'\n",
    "filehandle, _ = urllib.request.urlretrieve(url)\n",
    "zf = zipfile.ZipFile(filehandle, 'r')\n",
    "\n",
    "results_df = pd.read_csv(zf.open('results.csv'))\n",
    "drivers_df = pd.read_csv(zf.open('drivers.csv'))\n",
    "lap_times_df = pd.read_csv(zf.open('lap_times.csv'))\n",
    "races_df = pd.read_csv(zf.open('races.csv'))\n",
    "circuits_df = pd.read_csv(zf.open('circuits.csv'))\n",
    "constructors_df = pd.read_csv(zf.open('constructors.csv'))\n",
    "pit_stops_df = pd.read_csv(zf.open('pit_stops.csv'))"
   ]
  },
  {
   "cell_type": "code",
   "execution_count": 4,
   "metadata": {},
   "outputs": [
    {
     "data": {
      "image/png": "[encoded data removed]",
      "text/plain": [
       "<Figure size 1008x432 with 1 Axes>"
      ]
     },
     "metadata": {
      "needs_background": "light"
     },
     "output_type": "display_data"
    }
   ],
   "source": [
    "raceId = lap_times_df.raceId.drop_duplicates().iloc[-1]\n",
    "\n",
    "driverId = drivers_df[drivers_df.code == 'HAM'].driverId.iloc[-1]\n",
    "race_df = lap_times_df[(lap_times_df.raceId == raceId) & (lap_times_df.driverId == driverId)].copy()\n",
    "q1 = race_df.milliseconds.quantile(0.25)\n",
    "q3 = race_df.milliseconds.quantile(0.75)\n",
    "cons = (q3 - q1) * 1.5\n",
    "high_lim = q3 + cons\n",
    "low_lim = q1 - cons\n",
    "data_1 = [q3, high_lim, low_lim, q1]\n",
    "\n",
    "driverId = drivers_df[drivers_df.code == 'VER'].driverId.iloc[-1]\n",
    "race_df = lap_times_df[(lap_times_df.raceId == raceId) & (lap_times_df.driverId == driverId)].copy()\n",
    "q1 = race_df.milliseconds.quantile(0.25)\n",
    "q3 = race_df.milliseconds.quantile(0.75)\n",
    "cons = (q3 - q1) * 1.5\n",
    "high_lim = q3 + cons\n",
    "low_lim = q1 - cons\n",
    "data_2 = [q3, high_lim, low_lim, q1]\n",
    "\n",
    "plt.figure(figsize=(14, 6))\n",
    "\n",
    "data = [data_1, data_2]\n",
    "plt.boxplot(data)\n",
    "plt.xticks([i + 1 for i in range(len(data))], ('HAM', 'BOT'))\n",
    "plt.scatter([1,2], [110000,110000], s=300, alpha=0.8, edgecolors='b')\n",
    "plt.text(1, 110000, '12', horizontalalignment='center', verticalalignment='center')\n",
    "plt.grid(zorder=0)\n",
    "plt.show()"
   ]
  }
 ],
 "metadata": {
  "kernelspec": {
   "display_name": "Python 3",
   "language": "python",
   "name": "python3"
  },
  "language_info": {
   "codemirror_mode": {
    "name": "ipython",
    "version": 3
   },
   "file_extension": ".py",
   "mimetype": "text/x-python",
   "name": "python",
   "nbconvert_exporter": "python",
   "pygments_lexer": "ipython3",
   "version": "3.8.3"
  }
 },
 "nbformat": 4,
 "nbformat_minor": 4
}
